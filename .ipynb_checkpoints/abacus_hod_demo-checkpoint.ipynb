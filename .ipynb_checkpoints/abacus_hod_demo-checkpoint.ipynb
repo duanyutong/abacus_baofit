{
 "cells": [
  {
   "cell_type": "markdown",
   "metadata": {},
   "source": [
    "### Abacus HOD Demo\n",
    "\n",
    "This notebook demonstrates how to take Abacus simulation products, e.g. Rockstar halo catalogues, and create [Halotools](https://halotools.readthedocs.io/en/latest/) HOD-style galaxy catalogues using a generalsed, DM particle-based HOD framework. All generalised model instances use [`zheng07`](https://halotools.readthedocs.io/en/latest/quickstart_and_tutorials/tutorials/model_building/preloaded_models/zheng07_composite_model.html) in Halotools as the base class.\n",
    "\n",
    "First set some metadata and options."
   ]
  },
  {
   "cell_type": "code",
   "execution_count": null,
   "metadata": {},
   "outputs": [],
   "source": [
    "import os\n",
    "import Halotools as abacus_ht # Abacus' \"Halotools\" for importing Abacus halocat\n",
    "import abacus_hod\n",
    "sim_name_prefix = 'emulator_1100box_planck'\n",
    "prod_dir = '/mnt/gosling2/bigsim_products/emulator_1100box_planck_products/'\n",
    "store_dir = os.path.expanduser('~/store')\n",
    "redshifts = [0.5]\n",
    "cosmologies = [0]\n",
    "phases = [0]\n",
    "halo_type = 'Rockstar'\n",
    "N_cut = 70  # used to apply mass cut to halos, corresponds to 4e12 Msun\n",
    "model_name = 'gen_base1'  # define prebuilt or generalised models in initialise_model"
   ]
  },
  {
   "cell_type": "markdown",
   "metadata": {},
   "source": [
    "Load a Rockstar halo catalogue in Halotools format using Abacus' halo reader, and process the halocat to fix particle table issues with current Rockstar implementation."
   ]
  },
  {
   "cell_type": "code",
   "execution_count": null,
   "metadata": {},
   "outputs": [],
   "source": [
    "halocat = abacus_ht.make_catalogs(sim_name=sim_name_prefix, products_dir=prod_dir,\n",
    "                                  redshifts=redshifts, cosmologies=cosmologies, phases=phases,\n",
    "                                  load_halo_ptcl_catalog=True,  # this loads 10% particle subsamples\n",
    "                                  load_ptcl_catalog=False,  # this loads uniform subsamples, doesn't work\n",
    "                                  halo_type=halo_type, load_pids=False)[0][0][0]\n",
    "abacus_hod.process_rockstar_halocat(halocat, N_cut=N_cut)"
   ]
  },
  {
   "cell_type": "markdown",
   "metadata": {},
   "source": [
    "Initialise a HOD model instance using only the redshift and model name. Set desired HOD parameters before populating the model with galaxies using halo table and particle table, or define your own model in `initialise_model` so you don't have to manually set the parameters.\n",
    "\n",
    "Add any metadata you need to the model. Halocat header will be preserved in model.mock after the model is populated."
   ]
  },
  {
   "cell_type": "code",
   "execution_count": null,
   "metadata": {},
   "outputs": [],
   "source": [
    "model = abacus_hod.initialise_model(halocat.redshift, model_name, halo_m_prop='halo_mvir')\n",
    "model.N_cut = N_cut\n",
    "model.r = 0  # realisation index, usually need > 10 realisations of each HOD model for each phase\n",
    "# five baseline parameters\n",
    "model.param_dict['logMcut'] = 13.35\n",
    "model.param_dict['sigma_lnM'] = 0.85\n",
    "model.param_dict['kappa'] = 1\n",
    "model.param_dict['logM1'] = 13.8\n",
    "model.param_dict['alpha'] = 1\n",
    "# decoration parameters\n",
    "model.param_dict['s'] = 0  # sat ranking by halo centric distance\n",
    "model.param_dict['s_v'] = 0  # sat ranking by relative speed\n",
    "model.param_dict['s_p'] = 0  # sat ranking perihelion distance\n",
    "model.param_dict['alpha_c'] = 0  # centrals velocity bias\n",
    "model.param_dict['A_cen'] = 0  # centrals assembly bias, pseudomass\n",
    "model.param_dict['A_sat'] = 0  # satellites assembly bias, pseudomass"
   ]
  },
  {
   "cell_type": "markdown",
   "metadata": {},
   "source": [
    "Optional step. We want to know the median concentration $\\bar{c}$ of each halo mass bin, so that we may check later if a given halo is more or less massive than median, and rank halos using $\\Delta c \\equiv c_\\text{NFW} - \\bar{c}$. Median concentration as a function of halo mass can be fitted with a 3rd-degree polynomial using all halos in 16 sim boxes. The coefficients are saved as a text file."
   ]
  },
  {
   "cell_type": "code",
   "execution_count": null,
   "metadata": {},
   "outputs": [],
   "source": [
    "model.c_median_poly = abacus_hod.fit_c_median(sim_name_prefix, prod_dir, store_dir,\n",
    "                                              redshifts[0], cosmologies[0],\n",
    "                                              halo_type=halo_type, N_cut=N_cut, phases=range(16))"
   ]
  },
  {
   "cell_type": "markdown",
   "metadata": {},
   "source": [
    "Finally populate the model with chose HOD parameters and a halocat. The seed formula is chose as \n",
    "\\begin{equation}\n",
    "    seed = 100 \\times phase + r\n",
    "\\end{equation}\n",
    "which guarantees that $N_\\text{halos} + N_\\text{particles}$ random numbers are thrown deterministically for a given phase and realisation, independent of the HOD model imposed, provided that one does not exceed 100 realisations."
   ]
  },
  {
   "cell_type": "code",
   "execution_count": null,
   "metadata": {},
   "outputs": [],
   "source": [
    "model = populate_model(halocat, model, add_rsd=True)  # add_rsd modifies z_coord of halo centres"
   ]
  },
  {
   "cell_type": "markdown",
   "metadata": {},
   "source": [
    "Now the model is complete. Some important fields are as follows."
   ]
  },
  {
   "cell_type": "code",
   "execution_count": null,
   "metadata": {},
   "outputs": [],
   "source": [
    "# all halocat fields are inherited by model.mock, such as\n",
    "model.mock.header\n",
    "model.mock.BoxSize\n",
    "model.mock.redshift\n",
    "# tables\n",
    "model.mock.halo_table  # from halocat\n",
    "model.mock.halo_ptcl_table  # from halocat\n",
    "model.mock.galaxy_table  # includes centrals and satellites\n",
    "# other select properties\n",
    "model.ND  # number of data galaxies in the model catalogue\n",
    "model.mock.gt_loaded  # if the model catalogue was loaded from an existing galaxy table on disk\n",
    "model.mock.reconstructed  # if the galaxy table x, y, z coordinates are post-standard reconstruction\n",
    "model.mock.numerical_randoms  # NR by 3 array of shifted randoms"
   ]
  },
  {
   "cell_type": "markdown",
   "metadata": {},
   "source": [
    "As the `galaxy_table` is in [astropy.table](http://docs.astropy.org/en/stable/table/) format, you may easily save it to disk and load it. By default even the fast engine is single-threaded and slow. [Here](http://docs.astropy.org/en/stable/io/ascii/fast_ascii_io.html) is a discussion on parallel read."
   ]
  }
 ],
 "metadata": {
  "kernelspec": {
   "display_name": "Python 3",
   "language": "python",
   "name": "python3"
  },
  "language_info": {
   "codemirror_mode": {
    "name": "ipython",
    "version": 3
   },
   "file_extension": ".py",
   "mimetype": "text/x-python",
   "name": "python",
   "nbconvert_exporter": "python",
   "pygments_lexer": "ipython3",
   "version": "3.6.6"
  }
 },
 "nbformat": 4,
 "nbformat_minor": 2
}
