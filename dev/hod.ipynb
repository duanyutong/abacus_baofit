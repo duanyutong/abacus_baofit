{
 "cells": [
  {
   "cell_type": "code",
   "execution_count": 1,
   "metadata": {},
   "outputs": [
    {
     "name": "stdout",
     "output_type": "stream",
     "text": [
      "Importing catalogue: /mnt/gosling2/bigsim_products/emulator_1100box_planck_products/emulator_1100box_planck_00-0_products/emulator_1100box_planck_00-0_rockstar_halos/z0.700\n",
      "CPU times: user 8.25 s, sys: 5.38 s, total: 13.6 s\n",
      "Wall time: 15 s\n"
     ]
    }
   ],
   "source": [
    "%%time\n",
    "\n",
    "import Halotools as ht # this is the Halotools for Abacus which imports catalogues in a unified format, not astropy.halotools\n",
    "import numpy as np\n",
    "import os\n",
    "from halotools.mock_observables import rp_pi_tpcf_jackknife\n",
    "from halotools.sim_manager import FakeSim\n",
    "from abacus_baofit import baofit_data\n",
    "# catalogue parameters\n",
    "sim_name_prefix = 'emulator_1100box_planck'\n",
    "cosmologies = [0] # 'all'\n",
    "redshifts = [0.700] #'all'\n",
    "products_dir = r'/mnt/gosling2/bigsim_products/emulator_1100box_planck_products/'\n",
    "phases =  [0] # list(range(16)) # 'all'\n",
    "halo_type = 'Rockstar'\n",
    "cats = ht.make_catalogs(sim_name = sim_name_prefix, cosmologies = cosmologies, redshifts = redshifts, products_dir = products_dir, phases = phases, halo_type = halo_type,\n",
    "                        load_halo_ptcl_catalog = False, # this loads subsamples, does not work\n",
    "                        load_ptcl_catalog = False, # this loads uniform subsamples, not implemented\n",
    "                        load_pids = 'auto')"
   ]
  },
  {
   "cell_type": "code",
   "execution_count": 2,
   "metadata": {},
   "outputs": [],
   "source": [
    "cat = cats[0][0][0]\n",
    "cat.redshift\n",
    "cat.halo_table['halo_mvir'] = cat.halo_table['halo_m']\n",
    "cat.halo_table['halo_rvir'] = cat.halo_table['halo_r']\n",
    "from halotools.utils import add_halo_hostid\n",
    "add_halo_hostid(cat.halo_table, delete_possibly_existing_column = True)\n",
    "cat.halo_table['halo_nfw_conc'] = cat.halo_table['halo_rvir'] / cat.halo_table['halo_klypin_rs'] # klypin_rs is more stable\n",
    "# cat.halo_table.keys()"
   ]
  },
  {
   "cell_type": "code",
   "execution_count": 39,
   "metadata": {},
   "outputs": [],
   "source": [
    "from halotools.empirical_models import HodModelFactory, TrivialPhaseSpace, NFWPhaseSpace, Zheng07Cens, Zheng07Sats\n",
    "cens_occ_model = Zheng07Cens(redshift = cat.redshift)\n",
    "cens_prof_model = TrivialPhaseSpace(redshift = cat.redshift)\n",
    "sats_occ_model = Zheng07Sats(redshift = cat.redshift)\n",
    "sats_prof_model = NFWPhaseSpace(redshift = cat.redshift, conc_mass_model= 'dutton_maccio14')\n",
    "model = HodModelFactory(centrals_occupation = cens_occ_model, \n",
    "                        centrals_profile = cens_prof_model, \n",
    "                        satellites_occupation = sats_occ_model, \n",
    "                        satellites_profile = sats_prof_model)\n",
    "model.populate_mock(cat, Num_ptcl_requirement = 10000)"
   ]
  },
  {
   "cell_type": "code",
   "execution_count": 3,
   "metadata": {
    "scrolled": true
   },
   "outputs": [],
   "source": [
    "from halotools.empirical_models import PrebuiltHodModelFactory\n",
    "models = {}\n",
    "models['zheng07'] = PrebuiltHodModelFactory('zheng07', redshift = cat.redshift)\n",
    "models['zheng07'].populate_mock(cat, Num_ptcl_requirement = 10)\n",
    "# model_instance.param_dict['logMmin'] = 12.1\n",
    "# model_instance.mock.populate()"
   ]
  },
  {
   "cell_type": "code",
   "execution_count": 5,
   "metadata": {},
   "outputs": [
    {
     "data": {
      "text/plain": [
       "['halo_upid',\n",
       " 'halo_hostid',\n",
       " 'conc_NFWmodel',\n",
       " 'halo_y',\n",
       " 'halo_x',\n",
       " 'halo_z',\n",
       " 'halo_vx',\n",
       " 'halo_vy',\n",
       " 'halo_vz',\n",
       " 'halo_rvir',\n",
       " 'halo_mvir',\n",
       " 'halo_id',\n",
       " 'halo_num_centrals',\n",
       " 'halo_num_satellites',\n",
       " 'gal_type',\n",
       " 'vx',\n",
       " 'host_centric_distance',\n",
       " 'vy',\n",
       " 'y',\n",
       " 'x',\n",
       " 'vz',\n",
       " 'z']"
      ]
     },
     "execution_count": 5,
     "metadata": {},
     "output_type": "execute_result"
    }
   ],
   "source": [
    "models['zheng07'].mock.galaxy_table.keys()"
   ]
  }
 ],
 "metadata": {
  "kernelspec": {
   "display_name": "Python 2",
   "language": "python",
   "name": "python2"
  },
  "language_info": {
   "codemirror_mode": {
    "name": "ipython",
    "version": 2
   },
   "file_extension": ".py",
   "mimetype": "text/x-python",
   "name": "python",
   "nbconvert_exporter": "python",
   "pygments_lexer": "ipython2",
   "version": "2.7.14"
  }
 },
 "nbformat": 4,
 "nbformat_minor": 2
}
